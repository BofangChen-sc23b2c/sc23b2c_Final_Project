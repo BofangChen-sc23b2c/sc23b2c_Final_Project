{
  "cells": [
    {
      "cell_type": "code",
      "execution_count": null,
      "metadata": {
        "id": "I9bSQS_qYlkb"
      },
      "outputs": [],
      "source": [
        "pip install  dgl -f https://data.dgl.ai/wheels/torch-2.3/cu121/repo.html"
      ]
    },
    {
      "cell_type": "code",
      "execution_count": null,
      "metadata": {
        "id": "soUffOqFYyMa",
        "colab": {
          "base_uri": "https://localhost:8080/"
        },
        "outputId": "9d0ee486-a71f-40f2-918c-cd4e81f1b339"
      },
      "outputs": [
        {
          "output_type": "stream",
          "name": "stderr",
          "text": [
            "DGL backend not selected or invalid.  Assuming PyTorch for now.\n"
          ]
        },
        {
          "output_type": "stream",
          "name": "stdout",
          "text": [
            "Setting the default backend to \"pytorch\". You can change it in the ~/.dgl/config.json file or export the DGLBACKEND environment variable.  Valid options are: pytorch, mxnet, tensorflow (all lowercase)\n"
          ]
        }
      ],
      "source": [
        "import pandas as pd\n",
        "import seaborn as sns\n",
        "import matplotlib.pyplot as plt\n",
        "import torch\n",
        "import torch.nn as nn\n",
        "import torch.nn.functional as F\n",
        "import dgl\n",
        "import os\n",
        "from dgl.nn import GraphConv, HeteroGraphConv\n",
        "import numpy as np\n",
        "import torch.optim as optim\n",
        "from torch.optim import Adam\n",
        "from sklearn.model_selection import train_test_split\n",
        "from torch.utils.data import Dataset\n",
        "from dgl.dataloading import GraphDataLoader"
      ]
    },
    {
      "cell_type": "code",
      "execution_count": null,
      "metadata": {
        "id": "lPcxnh8mYz7B",
        "colab": {
          "base_uri": "https://localhost:8080/"
        },
        "outputId": "aa31f41b-1334-4f64-88d8-f0e67d37bc6e"
      },
      "outputs": [
        {
          "output_type": "stream",
          "name": "stdout",
          "text": [
            "Using device: cuda\n"
          ]
        }
      ],
      "source": [
        "device = torch.device('cuda' if torch.cuda.is_available() else 'cpu')\n",
        "print('Using device:', device)"
      ]
    },
    {
      "cell_type": "code",
      "source": [
        "from google.colab import drive\n",
        "drive.mount('/content/drive')"
      ],
      "metadata": {
        "id": "mWUOx-_DJ58M"
      },
      "execution_count": null,
      "outputs": []
    },
    {
      "cell_type": "code",
      "source": [
        "dirve_path = '/content/drive/MyDrive/Project/'\n",
        "train = pd.read_csv(dirve_path + 'security_train.csv')"
      ],
      "metadata": {
        "id": "jcGDDsAeJQO7"
      },
      "execution_count": null,
      "outputs": []
    },
    {
      "cell_type": "code",
      "source": [
        "api_to_idx = {api: idx for idx, api in enumerate(train['api'].unique())}\n",
        "train['api_idx'] = train['api'].map(api_to_idx)\n",
        "train.sort_values(by=['file_id', 'index'], inplace=True)"
      ],
      "metadata": {
        "id": "ITgdyxyLxQoa"
      },
      "execution_count": null,
      "outputs": []
    },
    {
      "cell_type": "code",
      "source": [
        "train"
      ],
      "metadata": {
        "colab": {
          "base_uri": "https://localhost:8080/",
          "height": 423
        },
        "id": "YbmESHOapyHJ",
        "outputId": "bfb8e1a8-02d5-499b-e5b2-14d55041c3c2"
      },
      "execution_count": null,
      "outputs": [
        {
          "output_type": "execute_result",
          "data": {
            "text/plain": [
              "          file_id  label                     api   tid  index  api_idx\n",
              "0               1      5              LdrLoadDll  2488      0        0\n",
              "4744            1      5              LdrLoadDll  2572      0        0\n",
              "5108            1      5              LdrLoadDll  2648      0        0\n",
              "1               1      5  LdrGetProcedureAddress  2488      1        1\n",
              "4745            1      5  LdrGetProcedureAddress  2572      1        1\n",
              "...           ...    ...                     ...   ...    ...      ...\n",
              "89806688    13887      2                 NtClose  2336    618        3\n",
              "89806689    13887      2                 NtClose  2336    619        3\n",
              "89806690    13887      2                 NtClose  2336    620        3\n",
              "89806691    13887      2                 NtClose  2336    621        3\n",
              "89806692    13887      2      NtTerminateProcess  2336    622       57\n",
              "\n",
              "[89806693 rows x 6 columns]"
            ],
            "text/html": [
              "\n",
              "  <div id=\"df-893e2375-3506-4440-a5a3-c266c589ff28\" class=\"colab-df-container\">\n",
              "    <div>\n",
              "<style scoped>\n",
              "    .dataframe tbody tr th:only-of-type {\n",
              "        vertical-align: middle;\n",
              "    }\n",
              "\n",
              "    .dataframe tbody tr th {\n",
              "        vertical-align: top;\n",
              "    }\n",
              "\n",
              "    .dataframe thead th {\n",
              "        text-align: right;\n",
              "    }\n",
              "</style>\n",
              "<table border=\"1\" class=\"dataframe\">\n",
              "  <thead>\n",
              "    <tr style=\"text-align: right;\">\n",
              "      <th></th>\n",
              "      <th>file_id</th>\n",
              "      <th>label</th>\n",
              "      <th>api</th>\n",
              "      <th>tid</th>\n",
              "      <th>index</th>\n",
              "      <th>api_idx</th>\n",
              "    </tr>\n",
              "  </thead>\n",
              "  <tbody>\n",
              "    <tr>\n",
              "      <th>0</th>\n",
              "      <td>1</td>\n",
              "      <td>5</td>\n",
              "      <td>LdrLoadDll</td>\n",
              "      <td>2488</td>\n",
              "      <td>0</td>\n",
              "      <td>0</td>\n",
              "    </tr>\n",
              "    <tr>\n",
              "      <th>4744</th>\n",
              "      <td>1</td>\n",
              "      <td>5</td>\n",
              "      <td>LdrLoadDll</td>\n",
              "      <td>2572</td>\n",
              "      <td>0</td>\n",
              "      <td>0</td>\n",
              "    </tr>\n",
              "    <tr>\n",
              "      <th>5108</th>\n",
              "      <td>1</td>\n",
              "      <td>5</td>\n",
              "      <td>LdrLoadDll</td>\n",
              "      <td>2648</td>\n",
              "      <td>0</td>\n",
              "      <td>0</td>\n",
              "    </tr>\n",
              "    <tr>\n",
              "      <th>1</th>\n",
              "      <td>1</td>\n",
              "      <td>5</td>\n",
              "      <td>LdrGetProcedureAddress</td>\n",
              "      <td>2488</td>\n",
              "      <td>1</td>\n",
              "      <td>1</td>\n",
              "    </tr>\n",
              "    <tr>\n",
              "      <th>4745</th>\n",
              "      <td>1</td>\n",
              "      <td>5</td>\n",
              "      <td>LdrGetProcedureAddress</td>\n",
              "      <td>2572</td>\n",
              "      <td>1</td>\n",
              "      <td>1</td>\n",
              "    </tr>\n",
              "    <tr>\n",
              "      <th>...</th>\n",
              "      <td>...</td>\n",
              "      <td>...</td>\n",
              "      <td>...</td>\n",
              "      <td>...</td>\n",
              "      <td>...</td>\n",
              "      <td>...</td>\n",
              "    </tr>\n",
              "    <tr>\n",
              "      <th>89806688</th>\n",
              "      <td>13887</td>\n",
              "      <td>2</td>\n",
              "      <td>NtClose</td>\n",
              "      <td>2336</td>\n",
              "      <td>618</td>\n",
              "      <td>3</td>\n",
              "    </tr>\n",
              "    <tr>\n",
              "      <th>89806689</th>\n",
              "      <td>13887</td>\n",
              "      <td>2</td>\n",
              "      <td>NtClose</td>\n",
              "      <td>2336</td>\n",
              "      <td>619</td>\n",
              "      <td>3</td>\n",
              "    </tr>\n",
              "    <tr>\n",
              "      <th>89806690</th>\n",
              "      <td>13887</td>\n",
              "      <td>2</td>\n",
              "      <td>NtClose</td>\n",
              "      <td>2336</td>\n",
              "      <td>620</td>\n",
              "      <td>3</td>\n",
              "    </tr>\n",
              "    <tr>\n",
              "      <th>89806691</th>\n",
              "      <td>13887</td>\n",
              "      <td>2</td>\n",
              "      <td>NtClose</td>\n",
              "      <td>2336</td>\n",
              "      <td>621</td>\n",
              "      <td>3</td>\n",
              "    </tr>\n",
              "    <tr>\n",
              "      <th>89806692</th>\n",
              "      <td>13887</td>\n",
              "      <td>2</td>\n",
              "      <td>NtTerminateProcess</td>\n",
              "      <td>2336</td>\n",
              "      <td>622</td>\n",
              "      <td>57</td>\n",
              "    </tr>\n",
              "  </tbody>\n",
              "</table>\n",
              "<p>89806693 rows × 6 columns</p>\n",
              "</div>\n",
              "    <div class=\"colab-df-buttons\">\n",
              "\n",
              "  <div class=\"colab-df-container\">\n",
              "    <button class=\"colab-df-convert\" onclick=\"convertToInteractive('df-893e2375-3506-4440-a5a3-c266c589ff28')\"\n",
              "            title=\"Convert this dataframe to an interactive table.\"\n",
              "            style=\"display:none;\">\n",
              "\n",
              "  <svg xmlns=\"http://www.w3.org/2000/svg\" height=\"24px\" viewBox=\"0 -960 960 960\">\n",
              "    <path d=\"M120-120v-720h720v720H120Zm60-500h600v-160H180v160Zm220 220h160v-160H400v160Zm0 220h160v-160H400v160ZM180-400h160v-160H180v160Zm440 0h160v-160H620v160ZM180-180h160v-160H180v160Zm440 0h160v-160H620v160Z\"/>\n",
              "  </svg>\n",
              "    </button>\n",
              "\n",
              "  <style>\n",
              "    .colab-df-container {\n",
              "      display:flex;\n",
              "      gap: 12px;\n",
              "    }\n",
              "\n",
              "    .colab-df-convert {\n",
              "      background-color: #E8F0FE;\n",
              "      border: none;\n",
              "      border-radius: 50%;\n",
              "      cursor: pointer;\n",
              "      display: none;\n",
              "      fill: #1967D2;\n",
              "      height: 32px;\n",
              "      padding: 0 0 0 0;\n",
              "      width: 32px;\n",
              "    }\n",
              "\n",
              "    .colab-df-convert:hover {\n",
              "      background-color: #E2EBFA;\n",
              "      box-shadow: 0px 1px 2px rgba(60, 64, 67, 0.3), 0px 1px 3px 1px rgba(60, 64, 67, 0.15);\n",
              "      fill: #174EA6;\n",
              "    }\n",
              "\n",
              "    .colab-df-buttons div {\n",
              "      margin-bottom: 4px;\n",
              "    }\n",
              "\n",
              "    [theme=dark] .colab-df-convert {\n",
              "      background-color: #3B4455;\n",
              "      fill: #D2E3FC;\n",
              "    }\n",
              "\n",
              "    [theme=dark] .colab-df-convert:hover {\n",
              "      background-color: #434B5C;\n",
              "      box-shadow: 0px 1px 3px 1px rgba(0, 0, 0, 0.15);\n",
              "      filter: drop-shadow(0px 1px 2px rgba(0, 0, 0, 0.3));\n",
              "      fill: #FFFFFF;\n",
              "    }\n",
              "  </style>\n",
              "\n",
              "    <script>\n",
              "      const buttonEl =\n",
              "        document.querySelector('#df-893e2375-3506-4440-a5a3-c266c589ff28 button.colab-df-convert');\n",
              "      buttonEl.style.display =\n",
              "        google.colab.kernel.accessAllowed ? 'block' : 'none';\n",
              "\n",
              "      async function convertToInteractive(key) {\n",
              "        const element = document.querySelector('#df-893e2375-3506-4440-a5a3-c266c589ff28');\n",
              "        const dataTable =\n",
              "          await google.colab.kernel.invokeFunction('convertToInteractive',\n",
              "                                                    [key], {});\n",
              "        if (!dataTable) return;\n",
              "\n",
              "        const docLinkHtml = 'Like what you see? Visit the ' +\n",
              "          '<a target=\"_blank\" href=https://colab.research.google.com/notebooks/data_table.ipynb>data table notebook</a>'\n",
              "          + ' to learn more about interactive tables.';\n",
              "        element.innerHTML = '';\n",
              "        dataTable['output_type'] = 'display_data';\n",
              "        await google.colab.output.renderOutput(dataTable, element);\n",
              "        const docLink = document.createElement('div');\n",
              "        docLink.innerHTML = docLinkHtml;\n",
              "        element.appendChild(docLink);\n",
              "      }\n",
              "    </script>\n",
              "  </div>\n",
              "\n",
              "\n",
              "<div id=\"df-7eedb2de-d888-4b49-a2f7-3dbadb639efe\">\n",
              "  <button class=\"colab-df-quickchart\" onclick=\"quickchart('df-7eedb2de-d888-4b49-a2f7-3dbadb639efe')\"\n",
              "            title=\"Suggest charts\"\n",
              "            style=\"display:none;\">\n",
              "\n",
              "<svg xmlns=\"http://www.w3.org/2000/svg\" height=\"24px\"viewBox=\"0 0 24 24\"\n",
              "     width=\"24px\">\n",
              "    <g>\n",
              "        <path d=\"M19 3H5c-1.1 0-2 .9-2 2v14c0 1.1.9 2 2 2h14c1.1 0 2-.9 2-2V5c0-1.1-.9-2-2-2zM9 17H7v-7h2v7zm4 0h-2V7h2v10zm4 0h-2v-4h2v4z\"/>\n",
              "    </g>\n",
              "</svg>\n",
              "  </button>\n",
              "\n",
              "<style>\n",
              "  .colab-df-quickchart {\n",
              "      --bg-color: #E8F0FE;\n",
              "      --fill-color: #1967D2;\n",
              "      --hover-bg-color: #E2EBFA;\n",
              "      --hover-fill-color: #174EA6;\n",
              "      --disabled-fill-color: #AAA;\n",
              "      --disabled-bg-color: #DDD;\n",
              "  }\n",
              "\n",
              "  [theme=dark] .colab-df-quickchart {\n",
              "      --bg-color: #3B4455;\n",
              "      --fill-color: #D2E3FC;\n",
              "      --hover-bg-color: #434B5C;\n",
              "      --hover-fill-color: #FFFFFF;\n",
              "      --disabled-bg-color: #3B4455;\n",
              "      --disabled-fill-color: #666;\n",
              "  }\n",
              "\n",
              "  .colab-df-quickchart {\n",
              "    background-color: var(--bg-color);\n",
              "    border: none;\n",
              "    border-radius: 50%;\n",
              "    cursor: pointer;\n",
              "    display: none;\n",
              "    fill: var(--fill-color);\n",
              "    height: 32px;\n",
              "    padding: 0;\n",
              "    width: 32px;\n",
              "  }\n",
              "\n",
              "  .colab-df-quickchart:hover {\n",
              "    background-color: var(--hover-bg-color);\n",
              "    box-shadow: 0 1px 2px rgba(60, 64, 67, 0.3), 0 1px 3px 1px rgba(60, 64, 67, 0.15);\n",
              "    fill: var(--button-hover-fill-color);\n",
              "  }\n",
              "\n",
              "  .colab-df-quickchart-complete:disabled,\n",
              "  .colab-df-quickchart-complete:disabled:hover {\n",
              "    background-color: var(--disabled-bg-color);\n",
              "    fill: var(--disabled-fill-color);\n",
              "    box-shadow: none;\n",
              "  }\n",
              "\n",
              "  .colab-df-spinner {\n",
              "    border: 2px solid var(--fill-color);\n",
              "    border-color: transparent;\n",
              "    border-bottom-color: var(--fill-color);\n",
              "    animation:\n",
              "      spin 1s steps(1) infinite;\n",
              "  }\n",
              "\n",
              "  @keyframes spin {\n",
              "    0% {\n",
              "      border-color: transparent;\n",
              "      border-bottom-color: var(--fill-color);\n",
              "      border-left-color: var(--fill-color);\n",
              "    }\n",
              "    20% {\n",
              "      border-color: transparent;\n",
              "      border-left-color: var(--fill-color);\n",
              "      border-top-color: var(--fill-color);\n",
              "    }\n",
              "    30% {\n",
              "      border-color: transparent;\n",
              "      border-left-color: var(--fill-color);\n",
              "      border-top-color: var(--fill-color);\n",
              "      border-right-color: var(--fill-color);\n",
              "    }\n",
              "    40% {\n",
              "      border-color: transparent;\n",
              "      border-right-color: var(--fill-color);\n",
              "      border-top-color: var(--fill-color);\n",
              "    }\n",
              "    60% {\n",
              "      border-color: transparent;\n",
              "      border-right-color: var(--fill-color);\n",
              "    }\n",
              "    80% {\n",
              "      border-color: transparent;\n",
              "      border-right-color: var(--fill-color);\n",
              "      border-bottom-color: var(--fill-color);\n",
              "    }\n",
              "    90% {\n",
              "      border-color: transparent;\n",
              "      border-bottom-color: var(--fill-color);\n",
              "    }\n",
              "  }\n",
              "</style>\n",
              "\n",
              "  <script>\n",
              "    async function quickchart(key) {\n",
              "      const quickchartButtonEl =\n",
              "        document.querySelector('#' + key + ' button');\n",
              "      quickchartButtonEl.disabled = true;  // To prevent multiple clicks.\n",
              "      quickchartButtonEl.classList.add('colab-df-spinner');\n",
              "      try {\n",
              "        const charts = await google.colab.kernel.invokeFunction(\n",
              "            'suggestCharts', [key], {});\n",
              "      } catch (error) {\n",
              "        console.error('Error during call to suggestCharts:', error);\n",
              "      }\n",
              "      quickchartButtonEl.classList.remove('colab-df-spinner');\n",
              "      quickchartButtonEl.classList.add('colab-df-quickchart-complete');\n",
              "    }\n",
              "    (() => {\n",
              "      let quickchartButtonEl =\n",
              "        document.querySelector('#df-7eedb2de-d888-4b49-a2f7-3dbadb639efe button');\n",
              "      quickchartButtonEl.style.display =\n",
              "        google.colab.kernel.accessAllowed ? 'block' : 'none';\n",
              "    })();\n",
              "  </script>\n",
              "</div>\n",
              "\n",
              "  <div id=\"id_0f20073f-a16f-4b11-92ad-7672a1518a73\">\n",
              "    <style>\n",
              "      .colab-df-generate {\n",
              "        background-color: #E8F0FE;\n",
              "        border: none;\n",
              "        border-radius: 50%;\n",
              "        cursor: pointer;\n",
              "        display: none;\n",
              "        fill: #1967D2;\n",
              "        height: 32px;\n",
              "        padding: 0 0 0 0;\n",
              "        width: 32px;\n",
              "      }\n",
              "\n",
              "      .colab-df-generate:hover {\n",
              "        background-color: #E2EBFA;\n",
              "        box-shadow: 0px 1px 2px rgba(60, 64, 67, 0.3), 0px 1px 3px 1px rgba(60, 64, 67, 0.15);\n",
              "        fill: #174EA6;\n",
              "      }\n",
              "\n",
              "      [theme=dark] .colab-df-generate {\n",
              "        background-color: #3B4455;\n",
              "        fill: #D2E3FC;\n",
              "      }\n",
              "\n",
              "      [theme=dark] .colab-df-generate:hover {\n",
              "        background-color: #434B5C;\n",
              "        box-shadow: 0px 1px 3px 1px rgba(0, 0, 0, 0.15);\n",
              "        filter: drop-shadow(0px 1px 2px rgba(0, 0, 0, 0.3));\n",
              "        fill: #FFFFFF;\n",
              "      }\n",
              "    </style>\n",
              "    <button class=\"colab-df-generate\" onclick=\"generateWithVariable('train')\"\n",
              "            title=\"Generate code using this dataframe.\"\n",
              "            style=\"display:none;\">\n",
              "\n",
              "  <svg xmlns=\"http://www.w3.org/2000/svg\" height=\"24px\"viewBox=\"0 0 24 24\"\n",
              "       width=\"24px\">\n",
              "    <path d=\"M7,19H8.4L18.45,9,17,7.55,7,17.6ZM5,21V16.75L18.45,3.32a2,2,0,0,1,2.83,0l1.4,1.43a1.91,1.91,0,0,1,.58,1.4,1.91,1.91,0,0,1-.58,1.4L9.25,21ZM18.45,9,17,7.55Zm-12,3A5.31,5.31,0,0,0,4.9,8.1,5.31,5.31,0,0,0,1,6.5,5.31,5.31,0,0,0,4.9,4.9,5.31,5.31,0,0,0,6.5,1,5.31,5.31,0,0,0,8.1,4.9,5.31,5.31,0,0,0,12,6.5,5.46,5.46,0,0,0,6.5,12Z\"/>\n",
              "  </svg>\n",
              "    </button>\n",
              "    <script>\n",
              "      (() => {\n",
              "      const buttonEl =\n",
              "        document.querySelector('#id_0f20073f-a16f-4b11-92ad-7672a1518a73 button.colab-df-generate');\n",
              "      buttonEl.style.display =\n",
              "        google.colab.kernel.accessAllowed ? 'block' : 'none';\n",
              "\n",
              "      buttonEl.onclick = () => {\n",
              "        google.colab.notebook.generateWithVariable('train');\n",
              "      }\n",
              "      })();\n",
              "    </script>\n",
              "  </div>\n",
              "\n",
              "    </div>\n",
              "  </div>\n"
            ],
            "application/vnd.google.colaboratory.intrinsic+json": {
              "type": "dataframe",
              "variable_name": "train"
            }
          },
          "metadata": {},
          "execution_count": 12
        }
      ]
    },
    {
      "cell_type": "code",
      "source": [
        "# Create mapping of file IDs and thread IDs to indexes\n",
        "file_ids = pd.unique(train['file_id'])\n",
        "thread_ids = pd.unique(train['tid'])\n",
        "file_mapping = {fid: i for i, fid in enumerate(file_ids)}\n",
        "thread_mapping = {tid: i for i, tid in enumerate(thread_ids)}"
      ],
      "metadata": {
        "id": "osnJd_JLxSvO"
      },
      "execution_count": null,
      "outputs": []
    },
    {
      "cell_type": "code",
      "source": [
        "file_ids = train['file_id'].unique()\n",
        "train_file_ids, val_file_ids = train_test_split(file_ids, test_size=0.2, random_state=42)\n",
        "train_data = train[train['file_id'].isin(train_file_ids)]\n",
        "val_data = train[train['file_id'].isin(val_file_ids)]"
      ],
      "metadata": {
        "id": "z1Z7MboUJsix"
      },
      "execution_count": null,
      "outputs": []
    },
    {
      "cell_type": "code",
      "source": [
        "def create_hetero_graphs(df, api_to_idx):\n",
        "    device = torch.device('cuda' if torch.cuda.is_available() else 'cpu')\n",
        "    file_ids = df['file_id'].unique()\n",
        "    batched_graphs = []\n",
        "\n",
        "    # Pre-calculated API and index mapping of threads\n",
        "    apis_indices =  api_to_idx\n",
        "    tid_indices = thread_mapping\n",
        "    for file_id in file_ids:\n",
        "        sub_df = df[df['file_id'] == file_id].reset_index(drop=True)\n",
        "\n",
        "        # Graph initialisation\n",
        "        num_apis = len(apis_indices)\n",
        "        num_threads = len(tid_indices)\n",
        "        g = dgl.heterograph({\n",
        "            ('file', 'calls', 'api'): ([], []),\n",
        "            ('api', 'executed_in', 'thread'): ([], [])\n",
        "        }, num_nodes_dict={\n",
        "            'file': 1, 'api': num_apis, 'thread': num_threads\n",
        "        }, device=device)\n",
        "\n",
        "        # Add node features\n",
        "        g.nodes['file'].data['field_id'] = torch.tensor([[file_id]], dtype=torch.float, device=device)\n",
        "        g.nodes['api'].data['api_idx'] = torch.tensor(list(apis_indices.values()), dtype=torch.long, device=device)\n",
        "        g.nodes['thread'].data['tid'] = torch.tensor(list(tid_indices.values()), dtype=torch.long, device=device)\n",
        "        label = sub_df['label'].iloc[0]  # Get tags associated with the entire file\n",
        "        # File nodes added to the graph\n",
        "        g.nodes['file'].data['label'] = torch.tensor([[label]], dtype=torch.long, device=device)\n",
        "\n",
        "        # Optimisation: using NumPy to compute edges directly\n",
        "        calls_src = np.zeros(len(sub_df), dtype=int)  # The index of the file node is always 0\n",
        "        calls_dst = np.array([apis_indices[api] for api in sub_df['api']])\n",
        "        exec_src = calls_dst  # API to threads with same source node and calling relationship\n",
        "        exec_dst = np.array([tid_indices[tid] for tid in sub_df['tid']])\n",
        "\n",
        "        # Add edges\n",
        "        g.add_edges(torch.tensor(calls_src, device=device), torch.tensor(calls_dst, device=device), etype='calls')\n",
        "        g.add_edges(torch.tensor(exec_src, device=device), torch.tensor(exec_dst, device=device), etype='executed_in')\n",
        "\n",
        "        batched_graphs.append(g)\n",
        "\n",
        "    batched_graph = dgl.batch(batched_graphs)\n",
        "    return batched_graph"
      ],
      "metadata": {
        "id": "8_7yglkDLAgZ"
      },
      "execution_count": null,
      "outputs": []
    },
    {
      "cell_type": "code",
      "source": [
        "train_graph = create_hetero_graphs(train_data, api_to_idx)"
      ],
      "metadata": {
        "id": "kwwqo9umvXDt"
      },
      "execution_count": null,
      "outputs": []
    },
    {
      "cell_type": "code",
      "source": [
        "val_graph = create_hetero_graphs(val_data, api_to_idx)"
      ],
      "metadata": {
        "id": "_wCw2-icov0N"
      },
      "execution_count": null,
      "outputs": []
    },
    {
      "cell_type": "code",
      "source": [
        "val_graph"
      ],
      "metadata": {
        "colab": {
          "base_uri": "https://localhost:8080/"
        },
        "id": "h-ZqH2QdpWlS",
        "outputId": "4946e9a3-ec9d-4bfc-8113-4afd26299486"
      },
      "execution_count": null,
      "outputs": [
        {
          "output_type": "execute_result",
          "data": {
            "text/plain": [
              "Graph(num_nodes={'api': 819510, 'file': 2778, 'thread': 7728396},\n",
              "      num_edges={('api', 'executed_in', 'thread'): 16957093, ('file', 'calls', 'api'): 16957093},\n",
              "      metagraph=[('api', 'thread', 'executed_in'), ('file', 'api', 'calls')])"
            ]
          },
          "metadata": {},
          "execution_count": 50
        }
      ]
    },
    {
      "cell_type": "code",
      "source": [
        "train_graph"
      ],
      "metadata": {
        "colab": {
          "base_uri": "https://localhost:8080/"
        },
        "id": "UPllG7DzafYV",
        "outputId": "e562c29c-ba2a-44f8-90fc-6567ffb3f9c4"
      },
      "execution_count": null,
      "outputs": [
        {
          "output_type": "execute_result",
          "data": {
            "text/plain": [
              "Graph(num_nodes={'api': 3277155, 'file': 11109, 'thread': 30905238},\n",
              "      num_edges={('api', 'executed_in', 'thread'): 72849600, ('file', 'calls', 'api'): 72849600},\n",
              "      metagraph=[('api', 'thread', 'executed_in'), ('file', 'api', 'calls')])"
            ]
          },
          "metadata": {},
          "execution_count": 32
        }
      ]
    },
    {
      "cell_type": "code",
      "source": [
        "train_graphs_filename = '/content/drive/My Drive/Graphs/train_hetero_graphs.bin'\n",
        "val_graphs_filename = '/content/drive/My Drive/Graphs/val_hetero_graphs.bin'"
      ],
      "metadata": {
        "id": "jYa-kaSHa_v0"
      },
      "execution_count": null,
      "outputs": []
    },
    {
      "cell_type": "code",
      "source": [
        "def save_graphs(graph, filename):\n",
        "    dgl.save_graphs(filename, [graph])"
      ],
      "metadata": {
        "id": "tKgBnNnYa7P7"
      },
      "execution_count": null,
      "outputs": []
    },
    {
      "cell_type": "code",
      "source": [
        "save_graphs(train_graph, train_graphs_filename)"
      ],
      "metadata": {
        "id": "lWsuFC-MbFZw"
      },
      "execution_count": null,
      "outputs": []
    },
    {
      "cell_type": "code",
      "source": [
        "save_graphs(val_graph, val_graphs_filename)"
      ],
      "metadata": {
        "id": "zUhd9rigpZKM"
      },
      "execution_count": null,
      "outputs": []
    },
    {
      "cell_type": "code",
      "source": [
        "def load_graphs_from_file(filename):\n",
        "    graphs, _ = dgl.load_graphs(filename)\n",
        "    return graphs"
      ],
      "metadata": {
        "id": "3QqYg4MCcw9P"
      },
      "execution_count": null,
      "outputs": []
    },
    {
      "cell_type": "code",
      "source": [
        "train_graphs = load_graphs_from_file(train_graphs_filename)\n",
        "val_graphs = load_graphs_from_file(val_graphs_filename)"
      ],
      "metadata": {
        "id": "4Isc7k-W3yyz"
      },
      "execution_count": null,
      "outputs": []
    },
    {
      "cell_type": "code",
      "source": [
        "train_graphs = train_graphs[0]"
      ],
      "metadata": {
        "id": "GQXc92BD3_EY"
      },
      "execution_count": null,
      "outputs": []
    },
    {
      "cell_type": "code",
      "source": [
        "train_graphs"
      ],
      "metadata": {
        "colab": {
          "base_uri": "https://localhost:8080/"
        },
        "id": "c141E1Ow5UTA",
        "outputId": "322a6c07-9d18-4c7a-c6de-1c56dd717d9e"
      },
      "execution_count": null,
      "outputs": [
        {
          "output_type": "execute_result",
          "data": {
            "text/plain": [
              "Graph(num_nodes={'api': 3277155, 'file': 11109, 'thread': 30905238},\n",
              "      num_edges={('api', 'executed_in', 'thread'): 72849600, ('file', 'calls', 'api'): 72849600},\n",
              "      metagraph=[('api', 'thread', 'executed_in'), ('file', 'api', 'calls')])"
            ]
          },
          "metadata": {},
          "execution_count": 15
        }
      ]
    },
    {
      "cell_type": "code",
      "source": [
        "val_graphs = val_graphs[0]\n",
        "val_graphs"
      ],
      "metadata": {
        "colab": {
          "base_uri": "https://localhost:8080/"
        },
        "id": "QTswYoGC4AxN",
        "outputId": "33e92a62-5ca3-4b3c-9671-d809c7b0e7f5"
      },
      "execution_count": null,
      "outputs": [
        {
          "output_type": "execute_result",
          "data": {
            "text/plain": [
              "Graph(num_nodes={'api': 819510, 'file': 2778, 'thread': 7728396},\n",
              "      num_edges={('api', 'executed_in', 'thread'): 16957093, ('file', 'calls', 'api'): 16957093},\n",
              "      metagraph=[('api', 'thread', 'executed_in'), ('file', 'api', 'calls')])"
            ]
          },
          "metadata": {},
          "execution_count": 16
        }
      ]
    },
    {
      "cell_type": "code",
      "source": [
        "loaded_graphs"
      ],
      "metadata": {
        "colab": {
          "base_uri": "https://localhost:8080/"
        },
        "id": "Ejr18GdWRbfE",
        "outputId": "2bcbb569-5581-47fa-a89b-7edbc2641822"
      },
      "execution_count": null,
      "outputs": [
        {
          "output_type": "execute_result",
          "data": {
            "text/plain": [
              "[Graph(num_nodes={'api': 3277155, 'file': 11109, 'thread': 30905238},\n",
              "       num_edges={('api', 'executed_in', 'thread'): 72849600, ('file', 'calls', 'api'): 72849600},\n",
              "       metagraph=[('api', 'thread', 'executed_in'), ('file', 'api', 'calls')])]"
            ]
          },
          "metadata": {},
          "execution_count": 35
        }
      ]
    },
    {
      "cell_type": "code",
      "source": [
        "class GraphDataset(Dataset):\n",
        "    def __init__(self, graphs, labels):\n",
        "        self.graphs = graphs  # It's a list of diagrams\n",
        "        self.labels = labels  # It's a list of tags that correspond to the diagram #\n",
        "\n",
        "    def __len__(self):\n",
        "        return len(self.graphs)\n",
        "\n",
        "    def __getitem__(self, idx):\n",
        "        return self.graphs[idx], self.labels[idx]"
      ],
      "metadata": {
        "id": "Ps33lxF8d7xB"
      },
      "execution_count": null,
      "outputs": []
    },
    {
      "cell_type": "code",
      "source": [
        "print(type(train_graphs))"
      ],
      "metadata": {
        "colab": {
          "base_uri": "https://localhost:8080/"
        },
        "id": "FP5LZmoT4xSB",
        "outputId": "c7d99e75-8030-4b5b-ff24-e24d6dd5da67"
      },
      "execution_count": null,
      "outputs": [
        {
          "output_type": "stream",
          "name": "stdout",
          "text": [
            "<class 'dgl.heterograph.DGLGraph'>\n"
          ]
        }
      ]
    },
    {
      "cell_type": "code",
      "source": [
        "individual_train_graphs = dgl.unbatch(train_graphs)\n",
        "train_labels = [g.ndata['label']['file'][0].item() for g in individual_train_graphs]"
      ],
      "metadata": {
        "id": "U-CijMUofsBL"
      },
      "execution_count": null,
      "outputs": []
    },
    {
      "cell_type": "code",
      "source": [
        "individual_val_graphs = dgl.unbatch(val_graphs)\n",
        "val_labels = [g.ndata['label']['file'][0].item() for g in individual_val_graphs]"
      ],
      "metadata": {
        "id": "VFLJ5SwSpoxo"
      },
      "execution_count": null,
      "outputs": []
    },
    {
      "cell_type": "code",
      "source": [
        "train_dataset = GraphDataset(individual_train_graphs, train_labels)\n",
        "train_loader = GraphDataLoader(train_dataset, batch_size=10, shuffle=True, drop_last=False)"
      ],
      "metadata": {
        "id": "zgubaWHkROiX"
      },
      "execution_count": null,
      "outputs": []
    },
    {
      "cell_type": "code",
      "source": [
        "val_dataset = GraphDataset(individual_val_graphs, val_labels)\n",
        "val_loader = GraphDataLoader(val_dataset, batch_size=10, shuffle=True, drop_last=False)"
      ],
      "metadata": {
        "id": "IPMTuaovpRTL"
      },
      "execution_count": null,
      "outputs": []
    },
    {
      "cell_type": "code",
      "source": [
        "\n",
        "\n",
        "class HeteroRGCN(nn.Module):\n",
        "    def __init__(self, num_apis, num_threads, embedding_dim, hidden_dims, num_classes):\n",
        "        super(HeteroRGCN, self).__init__()\n",
        "        self.api_embedding = nn.Embedding(num_apis, embedding_dim)\n",
        "        self.thread_embedding = nn.Embedding(num_threads, embedding_dim)\n",
        "\n",
        "        self.conv1 = HeteroGraphConv({\n",
        "            'calls': GraphConv(embedding_dim, hidden_dims),\n",
        "            'executed_in': GraphConv(embedding_dim, hidden_dims)\n",
        "        }, aggregate='sum')\n",
        "\n",
        "        self.conv2 = HeteroGraphConv({\n",
        "            'calls': GraphConv(hidden_dims, hidden_dims),\n",
        "            'executed_in': GraphConv(hidden_dims, hidden_dims)\n",
        "        }, aggregate='sum')\n",
        "\n",
        "        self.classify_thread = nn.Linear(hidden_dims, num_classes)\n",
        "\n",
        "    def forward(self, g, api_ids, thread_ids):\n",
        "        g.nodes['api'].data['api_idx'] = self.api_embedding(api_ids)\n",
        "        g.nodes['thread'].data['tid'] = self.thread_embedding(thread_ids)\n",
        "\n",
        "        h_dict = self.conv1(g, {'api': g.nodes['api'].data['api_idx'], 'thread': g.nodes['thread'].data['tid']})\n",
        "        #h_dict = self.conv1(g, h)\n",
        "        h_dict = {k: F.relu(v) for k, v in h_dict.items()}\n",
        "\n",
        "        #h_dict = self.conv2(g, h_dict)\n",
        "        #h_dict = {k: F.relu(v) for k, v in h_dict.items()}\n",
        "\n",
        "        # Ensure that each node type is correctly updated\n",
        "        for ntype in h_dict:\n",
        "            g.nodes[ntype].data['h'] = h_dict[ntype]\n",
        "            print(f\"Updated {ntype} features with shape: {h_dict[ntype]}\") # Print feature shapes\n",
        "\n",
        "        if 'thread' in h_dict:\n",
        "            thread_repr = dgl.mean_nodes(g, 'h', ntype='thread')\n",
        "            thread_out = self.classify_thread(thread_repr)\n",
        "            return thread_out\n",
        "        else:\n",
        "            print(\"No thread type features available.\")  # If there is no thread type feature, print the prompt\n",
        "            return None"
      ],
      "metadata": {
        "id": "4fR756qVznlz"
      },
      "execution_count": null,
      "outputs": []
    },
    {
      "cell_type": "code",
      "source": [
        "\n",
        "num_apis = len(api_to_idx)\n",
        "num_files = len(file_mapping)\n",
        "num_threads = len(thread_mapping)\n",
        "embedding_dim = 8\n",
        "hidden_dims = 16\n",
        "num_classes = 8\n",
        "\n",
        "model = HeteroRGCN(num_apis, num_threads, embedding_dim, hidden_dims, num_classes)"
      ],
      "metadata": {
        "id": "kQ298S-szq5w"
      },
      "execution_count": null,
      "outputs": []
    },
    {
      "cell_type": "code",
      "source": [
        "def train(model, train_loader, val_loader, optimizer, criterion, device, num_epochs, patience):\n",
        "    model.to(device)\n",
        "    best_val_loss = np.inf\n",
        "    epochs_no_improve = 0  # Used to follow up to verify that losses have stopped improving\n",
        "\n",
        "    for epoch in range(num_epochs):\n",
        "        model.train()\n",
        "        total_loss = 0\n",
        "\n",
        "        for batched_graph, labels in train_loader:\n",
        "            batched_graph = batched_graph.to(device)\n",
        "            labels = labels.to(device)\n",
        "\n",
        "            # Clear the gradient\n",
        "            optimizer.zero_grad()\n",
        "\n",
        "            # Because it is a heterogeneous graph, we need to pass the ID corresponding to the node type\n",
        "            api_ids = batched_graph.nodes['api'].data['api_idx'].to(device).long()\n",
        "            thread_ids = batched_graph.nodes['thread'].data['tid'].to(device).long()\n",
        "            #file_ids = batched_graph.nodes['file'].data['field_id'].to(device).long()\n",
        "            print(api_ids)\n",
        "            print(thread_ids)\n",
        "            #print(file_ids)\n",
        "\n",
        "            logits = model(batched_graph, api_ids, thread_ids)\n",
        "\n",
        "            loss = criterion(logits, labels)\n",
        "            loss.backward()\n",
        "            optimizer.step()\n",
        "            total_loss += loss.item()\n",
        "\n",
        "        average_train_loss = total_loss / len(train_loader)\n",
        "\n",
        "\n",
        "        model.eval()\n",
        "        total_val_loss = 0\n",
        "        with torch.no_grad():\n",
        "            for batched_graph, labels in val_loader:\n",
        "                batched_graph = batched_graph.to(device)\n",
        "                labels = labels.to(device)\n",
        "\n",
        "                # Similar to the training step, get node IDs\n",
        "                api_ids = batched_graph.nodes['api'].data['api_idx'].to(device).long()\n",
        "                thread_ids = batched_graph.nodes['thread'].data['tid'].to(device).long()\n",
        "                #file_ids = batched_graph.nodes['file'].data['field_id'].to(device).long()\n",
        "\n",
        "                logits = model(batched_graph, api_ids, thread_ids)\n",
        "                val_loss = criterion(logits, labels)\n",
        "                total_val_loss += val_loss.item()\n",
        "\n",
        "        average_val_loss = total_val_loss / len(val_loader)\n",
        "        print(f'Epoch {epoch + 1}/{num_epochs}, Train Loss: {average_train_loss:.4f}, Val Loss: {average_val_loss:.4f}')\n",
        "\n",
        "        # Check for early stop conditions\n",
        "        if average_val_loss < best_val_loss:\n",
        "            best_val_loss = average_val_loss\n",
        "            epochs_no_improve = 0\n",
        "            torch.save(model.state_dict(), 'best_model.pth')  # Save the best models\n",
        "        else:\n",
        "            epochs_no_improve += 1\n",
        "            if epochs_no_improve == patience:\n",
        "                print(f'Early stopping triggered after {epoch + 1} epochs!')\n",
        "                break  # Stop training\n",
        "\n",
        "    # Load the best model\n",
        "    model.load_state_dict(torch.load('best_model.pth'))"
      ],
      "metadata": {
        "id": "3WGJ-qbe6fNn"
      },
      "execution_count": null,
      "outputs": []
    },
    {
      "cell_type": "code",
      "source": [
        "optimizer = optim.Adam(model.parameters(), lr=0.001)\n",
        "criterion = nn.CrossEntropyLoss()\n",
        "num_epochs = 50\n",
        "patience = 20"
      ],
      "metadata": {
        "id": "_EgddB1A6pMh"
      },
      "execution_count": null,
      "outputs": []
    },
    {
      "cell_type": "code",
      "source": [
        "torch.cuda.empty_cache()"
      ],
      "metadata": {
        "id": "1q-yNmer7_O-"
      },
      "execution_count": null,
      "outputs": []
    },
    {
      "cell_type": "code",
      "source": [
        "train(model, train_loader, val_loader, optimizer, criterion, device, num_epochs, patience)"
      ],
      "metadata": {
        "colab": {
          "base_uri": "https://localhost:8080/"
        },
        "id": "guZ4dUK26jFC",
        "outputId": "81bbff9b-b692-4352-9ee8-228d0ea765cc"
      },
      "execution_count": null,
      "outputs": [
        {
          "output_type": "stream",
          "name": "stdout",
          "text": [
            "tensor([  0,   1,   2,  ..., 292, 293, 294], device='cuda:0')\n",
            "tensor([   0,    1,    2,  ..., 2779, 2780, 2781], device='cuda:0')\n",
            "Updated thread features with shape: tensor([[0.0000, 0.3254, 0.0000,  ..., 0.9324, 2.5466, 0.0000],\n",
            "        [0.0088, 0.0430, 0.0000,  ..., 0.0000, 0.2977, 0.1966],\n",
            "        [0.0000, 0.7411, 0.0000,  ..., 0.0000, 0.9802, 0.0000],\n",
            "        ...,\n",
            "        [0.0000, 0.0000, 0.0000,  ..., 0.0000, 0.0000, 0.0000],\n",
            "        [0.0000, 0.0000, 0.0000,  ..., 0.0000, 0.0000, 0.0000],\n",
            "        [0.0000, 0.0000, 0.0000,  ..., 0.0000, 0.0000, 0.0000]],\n",
            "       device='cuda:0', grad_fn=<ReluBackward0>)\n",
            "Updated thread features with shape: tensor([[0.0344, 0.0453, 0.0000,  ..., 0.0000, 0.0000, 0.0246],\n",
            "        [0.0000, 0.0000, 0.0000,  ..., 0.0010, 0.0010, 0.0010],\n",
            "        [0.0344, 0.0453, 0.0000,  ..., 0.0000, 0.0000, 0.0246],\n",
            "        ...,\n",
            "        [0.0000, 0.0000, 0.0000,  ..., 0.0010, 0.0010, 0.0010],\n",
            "        [0.0000, 0.0000, 0.0000,  ..., 0.0010, 0.0010, 0.0010],\n",
            "        [0.0000, 0.0000, 0.0000,  ..., 0.0010, 0.0010, 0.0010]],\n",
            "       device='cuda:0')\n",
            "Epoch 1/50, Train Loss: 2.0455, Val Loss: 1.9439\n",
            "tensor([  0,   1,   2,  ..., 292, 293, 294], device='cuda:0')\n",
            "tensor([   0,    1,    2,  ..., 2779, 2780, 2781], device='cuda:0')\n",
            "Updated thread features with shape: tensor([[0.0000e+00, 3.1815e-01, 0.0000e+00,  ..., 9.4396e-01, 2.5614e+00,\n",
            "         0.0000e+00],\n",
            "        [4.1042e-03, 4.0532e-02, 0.0000e+00,  ..., 0.0000e+00, 3.0159e-01,\n",
            "         1.9931e-01],\n",
            "        [0.0000e+00, 7.3741e-01, 0.0000e+00,  ..., 0.0000e+00, 9.8500e-01,\n",
            "         0.0000e+00],\n",
            "        ...,\n",
            "        [0.0000e+00, 0.0000e+00, 0.0000e+00,  ..., 9.9997e-04, 9.9999e-04,\n",
            "         9.9997e-04],\n",
            "        [0.0000e+00, 0.0000e+00, 0.0000e+00,  ..., 9.9997e-04, 9.9999e-04,\n",
            "         9.9997e-04],\n",
            "        [0.0000e+00, 0.0000e+00, 0.0000e+00,  ..., 9.9997e-04, 9.9999e-04,\n",
            "         9.9997e-04]], device='cuda:0', grad_fn=<ReluBackward0>)\n",
            "Updated thread features with shape: tensor([[0.0331, 0.0442, 0.0000,  ..., 0.0000, 0.0000, 0.0256],\n",
            "        [0.0000, 0.0000, 0.0000,  ..., 0.0017, 0.0017, 0.0017],\n",
            "        [0.0331, 0.0442, 0.0000,  ..., 0.0000, 0.0000, 0.0256],\n",
            "        ...,\n",
            "        [0.0000, 0.0000, 0.0000,  ..., 0.0017, 0.0017, 0.0017],\n",
            "        [0.0000, 0.0000, 0.0000,  ..., 0.0017, 0.0017, 0.0017],\n",
            "        [0.0000, 0.0000, 0.0000,  ..., 0.0017, 0.0017, 0.0017]],\n",
            "       device='cuda:0')\n",
            "Epoch 2/50, Train Loss: 2.0433, Val Loss: 1.9445\n",
            "tensor([  0,   1,   2,  ..., 292, 293, 294], device='cuda:0')\n",
            "tensor([   0,    1,    2,  ..., 2779, 2780, 2781], device='cuda:0')\n",
            "Updated thread features with shape: tensor([[0.0000e+00, 3.1087e-01, 0.0000e+00,  ..., 9.5537e-01, 2.5761e+00,\n",
            "         0.0000e+00],\n",
            "        [0.0000e+00, 3.7996e-02, 0.0000e+00,  ..., 0.0000e+00, 3.0525e-01,\n",
            "         2.0179e-01],\n",
            "        [0.0000e+00, 7.3372e-01, 0.0000e+00,  ..., 0.0000e+00, 9.8960e-01,\n",
            "         0.0000e+00],\n",
            "        ...,\n",
            "        [0.0000e+00, 0.0000e+00, 0.0000e+00,  ..., 1.7469e-03, 1.7476e-03,\n",
            "         1.7460e-03],\n",
            "        [0.0000e+00, 0.0000e+00, 0.0000e+00,  ..., 1.7469e-03, 1.7476e-03,\n",
            "         1.7460e-03],\n",
            "        [0.0000e+00, 0.0000e+00, 0.0000e+00,  ..., 1.7469e-03, 1.7476e-03,\n",
            "         1.7460e-03]], device='cuda:0', grad_fn=<ReluBackward0>)\n",
            "Updated thread features with shape: tensor([[0.0318, 0.0431, 0.0000,  ..., 0.0000, 0.0000, 0.0268],\n",
            "        [0.0000, 0.0000, 0.0000,  ..., 0.0026, 0.0026, 0.0026],\n",
            "        [0.0318, 0.0431, 0.0000,  ..., 0.0000, 0.0000, 0.0268],\n",
            "        ...,\n",
            "        [0.0000, 0.0000, 0.0000,  ..., 0.0026, 0.0026, 0.0026],\n",
            "        [0.0000, 0.0000, 0.0000,  ..., 0.0026, 0.0026, 0.0026],\n",
            "        [0.0000, 0.0000, 0.0000,  ..., 0.0026, 0.0026, 0.0026]],\n",
            "       device='cuda:0')\n",
            "Epoch 3/50, Train Loss: 2.0415, Val Loss: 1.9449\n",
            "tensor([  0,   1,   2,  ..., 292, 293, 294], device='cuda:0')\n",
            "tensor([   0,    1,    2,  ..., 2779, 2780, 2781], device='cuda:0')\n",
            "Updated thread features with shape: tensor([[0.0000, 0.3036, 0.0000,  ..., 0.9670, 2.5910, 0.0000],\n",
            "        [0.0000, 0.0354, 0.0000,  ..., 0.0000, 0.3090, 0.2044],\n",
            "        [0.0000, 0.7300, 0.0000,  ..., 0.0000, 0.9943, 0.0000],\n",
            "        ...,\n",
            "        [0.0000, 0.0000, 0.0000,  ..., 0.0026, 0.0026, 0.0026],\n",
            "        [0.0000, 0.0000, 0.0000,  ..., 0.0026, 0.0026, 0.0026],\n",
            "        [0.0000, 0.0000, 0.0000,  ..., 0.0026, 0.0026, 0.0026]],\n",
            "       device='cuda:0', grad_fn=<ReluBackward0>)\n",
            "Updated thread features with shape: tensor([[0.0305, 0.0419, 0.0000,  ..., 0.0000, 0.0000, 0.0281],\n",
            "        [0.0000, 0.0000, 0.0000,  ..., 0.0035, 0.0035, 0.0035],\n",
            "        [0.0305, 0.0419, 0.0000,  ..., 0.0000, 0.0000, 0.0281],\n",
            "        ...,\n",
            "        [0.0000, 0.0000, 0.0000,  ..., 0.0035, 0.0035, 0.0035],\n",
            "        [0.0000, 0.0000, 0.0000,  ..., 0.0035, 0.0035, 0.0035],\n",
            "        [0.0000, 0.0000, 0.0000,  ..., 0.0035, 0.0035, 0.0035]],\n",
            "       device='cuda:0')\n",
            "Epoch 4/50, Train Loss: 2.0391, Val Loss: 1.9456\n",
            "tensor([  0,   1,   2,  ..., 292, 293, 294], device='cuda:0')\n",
            "tensor([   0,    1,    2,  ..., 2779, 2780, 2781], device='cuda:0')\n",
            "Updated thread features with shape: tensor([[0.0000, 0.2963, 0.0000,  ..., 0.9787, 2.6061, 0.0000],\n",
            "        [0.0000, 0.0327, 0.0000,  ..., 0.0000, 0.3129, 0.2070],\n",
            "        [0.0000, 0.7263, 0.0000,  ..., 0.0000, 0.9991, 0.0000],\n",
            "        ...,\n",
            "        [0.0000, 0.0000, 0.0000,  ..., 0.0035, 0.0035, 0.0035],\n",
            "        [0.0000, 0.0000, 0.0000,  ..., 0.0035, 0.0035, 0.0035],\n",
            "        [0.0000, 0.0000, 0.0000,  ..., 0.0035, 0.0035, 0.0035]],\n",
            "       device='cuda:0', grad_fn=<ReluBackward0>)\n",
            "Updated thread features with shape: tensor([[0.0292, 0.0408, 0.0000,  ..., 0.0000, 0.0000, 0.0294],\n",
            "        [0.0000, 0.0000, 0.0000,  ..., 0.0045, 0.0045, 0.0045],\n",
            "        [0.0292, 0.0408, 0.0000,  ..., 0.0000, 0.0000, 0.0294],\n",
            "        ...,\n",
            "        [0.0000, 0.0000, 0.0000,  ..., 0.0045, 0.0045, 0.0045],\n",
            "        [0.0000, 0.0000, 0.0000,  ..., 0.0045, 0.0045, 0.0045],\n",
            "        [0.0000, 0.0000, 0.0000,  ..., 0.0045, 0.0045, 0.0045]],\n",
            "       device='cuda:0')\n",
            "Epoch 5/50, Train Loss: 2.0372, Val Loss: 1.9460\n",
            "tensor([  0,   1,   2,  ..., 292, 293, 294], device='cuda:0')\n",
            "tensor([   0,    1,    2,  ..., 2779, 2780, 2781], device='cuda:0')\n",
            "Updated thread features with shape: tensor([[0.0000, 0.2891, 0.0000,  ..., 0.9905, 2.6213, 0.0000],\n",
            "        [0.0000, 0.0299, 0.0000,  ..., 0.0000, 0.3168, 0.2097],\n",
            "        [0.0000, 0.7226, 0.0000,  ..., 0.0000, 1.0040, 0.0000],\n",
            "        ...,\n",
            "        [0.0000, 0.0000, 0.0000,  ..., 0.0045, 0.0045, 0.0045],\n",
            "        [0.0000, 0.0000, 0.0000,  ..., 0.0045, 0.0045, 0.0045],\n",
            "        [0.0000, 0.0000, 0.0000,  ..., 0.0045, 0.0045, 0.0045]],\n",
            "       device='cuda:0', grad_fn=<ReluBackward0>)\n",
            "Updated thread features with shape: tensor([[0.0279, 0.0396, 0.0000,  ..., 0.0000, 0.0000, 0.0307],\n",
            "        [0.0000, 0.0000, 0.0000,  ..., 0.0054, 0.0054, 0.0054],\n",
            "        [0.0279, 0.0396, 0.0000,  ..., 0.0000, 0.0000, 0.0307],\n",
            "        ...,\n",
            "        [0.0000, 0.0000, 0.0000,  ..., 0.0054, 0.0054, 0.0054],\n",
            "        [0.0000, 0.0000, 0.0000,  ..., 0.0054, 0.0054, 0.0054],\n",
            "        [0.0000, 0.0000, 0.0000,  ..., 0.0054, 0.0054, 0.0054]],\n",
            "       device='cuda:0')\n",
            "Epoch 6/50, Train Loss: 2.0340, Val Loss: 1.9466\n",
            "tensor([  0,   1,   2,  ..., 292, 293, 294], device='cuda:0')\n",
            "tensor([   0,    1,    2,  ..., 2779, 2780, 2781], device='cuda:0')\n",
            "Updated thread features with shape: tensor([[0.0000, 0.2821, 0.0000,  ..., 1.0025, 2.6366, 0.0000],\n",
            "        [0.0000, 0.0269, 0.0000,  ..., 0.0000, 0.3207, 0.2124],\n",
            "        [0.0000, 0.7188, 0.0000,  ..., 0.0000, 1.0090, 0.0000],\n",
            "        ...,\n",
            "        [0.0000, 0.0000, 0.0000,  ..., 0.0054, 0.0054, 0.0054],\n",
            "        [0.0000, 0.0000, 0.0000,  ..., 0.0054, 0.0054, 0.0054],\n",
            "        [0.0000, 0.0000, 0.0000,  ..., 0.0054, 0.0054, 0.0054]],\n",
            "       device='cuda:0', grad_fn=<ReluBackward0>)\n",
            "Updated thread features with shape: tensor([[0.0266, 0.0384, 0.0000,  ..., 0.0000, 0.0000, 0.0320],\n",
            "        [0.0000, 0.0000, 0.0000,  ..., 0.0064, 0.0064, 0.0064],\n",
            "        [0.0266, 0.0384, 0.0000,  ..., 0.0000, 0.0000, 0.0320],\n",
            "        ...,\n",
            "        [0.0000, 0.0000, 0.0000,  ..., 0.0064, 0.0064, 0.0064],\n",
            "        [0.0000, 0.0000, 0.0000,  ..., 0.0064, 0.0064, 0.0064],\n",
            "        [0.0000, 0.0000, 0.0000,  ..., 0.0064, 0.0064, 0.0064]],\n",
            "       device='cuda:0')\n",
            "Epoch 7/50, Train Loss: 2.0322, Val Loss: 1.9475\n",
            "tensor([  0,   1,   2,  ..., 292, 293, 294], device='cuda:0')\n",
            "tensor([   0,    1,    2,  ..., 2779, 2780, 2781], device='cuda:0')\n",
            "Updated thread features with shape: tensor([[0.0000, 0.2753, 0.0000,  ..., 1.0146, 2.6521, 0.0000],\n",
            "        [0.0000, 0.0238, 0.0000,  ..., 0.0000, 0.3247, 0.2152],\n",
            "        [0.0000, 0.7150, 0.0000,  ..., 0.0000, 1.0140, 0.0000],\n",
            "        ...,\n",
            "        [0.0000, 0.0000, 0.0000,  ..., 0.0064, 0.0064, 0.0064],\n",
            "        [0.0000, 0.0000, 0.0000,  ..., 0.0064, 0.0064, 0.0064],\n",
            "        [0.0000, 0.0000, 0.0000,  ..., 0.0064, 0.0064, 0.0064]],\n",
            "       device='cuda:0', grad_fn=<ReluBackward0>)\n",
            "Updated thread features with shape: tensor([[0.0253, 0.0372, 0.0000,  ..., 0.0000, 0.0000, 0.0333],\n",
            "        [0.0000, 0.0000, 0.0000,  ..., 0.0074, 0.0074, 0.0074],\n",
            "        [0.0253, 0.0372, 0.0000,  ..., 0.0000, 0.0000, 0.0333],\n",
            "        ...,\n",
            "        [0.0000, 0.0000, 0.0000,  ..., 0.0074, 0.0074, 0.0074],\n",
            "        [0.0000, 0.0000, 0.0000,  ..., 0.0074, 0.0074, 0.0074],\n",
            "        [0.0000, 0.0000, 0.0000,  ..., 0.0074, 0.0074, 0.0074]],\n",
            "       device='cuda:0')\n",
            "Epoch 8/50, Train Loss: 2.0303, Val Loss: 1.9481\n",
            "tensor([  0,   1,   2,  ..., 292, 293, 294], device='cuda:0')\n",
            "tensor([   0,    1,    2,  ..., 2779, 2780, 2781], device='cuda:0')\n",
            "Updated thread features with shape: tensor([[0.0000, 0.2686, 0.0000,  ..., 1.0268, 2.6678, 0.0000],\n",
            "        [0.0000, 0.0205, 0.0000,  ..., 0.0000, 0.3287, 0.2179],\n",
            "        [0.0000, 0.7113, 0.0000,  ..., 0.0000, 1.0191, 0.0000],\n",
            "        ...,\n",
            "        [0.0000, 0.0000, 0.0000,  ..., 0.0074, 0.0074, 0.0074],\n",
            "        [0.0000, 0.0000, 0.0000,  ..., 0.0074, 0.0074, 0.0074],\n",
            "        [0.0000, 0.0000, 0.0000,  ..., 0.0074, 0.0074, 0.0074]],\n",
            "       device='cuda:0', grad_fn=<ReluBackward0>)\n",
            "Updated thread features with shape: tensor([[0.0240, 0.0359, 0.0000,  ..., 0.0000, 0.0000, 0.0346],\n",
            "        [0.0000, 0.0000, 0.0000,  ..., 0.0084, 0.0084, 0.0084],\n",
            "        [0.0240, 0.0359, 0.0000,  ..., 0.0000, 0.0000, 0.0346],\n",
            "        ...,\n",
            "        [0.0000, 0.0000, 0.0000,  ..., 0.0084, 0.0084, 0.0084],\n",
            "        [0.0000, 0.0000, 0.0000,  ..., 0.0084, 0.0084, 0.0084],\n",
            "        [0.0000, 0.0000, 0.0000,  ..., 0.0084, 0.0084, 0.0084]],\n",
            "       device='cuda:0')\n",
            "Epoch 9/50, Train Loss: 2.0285, Val Loss: 1.9484\n",
            "tensor([  0,   1,   2,  ..., 292, 293, 294], device='cuda:0')\n",
            "tensor([   0,    1,    2,  ..., 2779, 2780, 2781], device='cuda:0')\n",
            "Updated thread features with shape: tensor([[0.0000, 0.2621, 0.0000,  ..., 1.0391, 2.6837, 0.0000],\n",
            "        [0.0000, 0.0171, 0.0000,  ..., 0.0000, 0.3327, 0.2207],\n",
            "        [0.0000, 0.7075, 0.0000,  ..., 0.0000, 1.0244, 0.0000],\n",
            "        ...,\n",
            "        [0.0000, 0.0000, 0.0000,  ..., 0.0084, 0.0084, 0.0084],\n",
            "        [0.0000, 0.0000, 0.0000,  ..., 0.0084, 0.0084, 0.0084],\n",
            "        [0.0000, 0.0000, 0.0000,  ..., 0.0084, 0.0084, 0.0084]],\n",
            "       device='cuda:0', grad_fn=<ReluBackward0>)\n",
            "Updated thread features with shape: tensor([[0.0227, 0.0347, 0.0000,  ..., 0.0000, 0.0000, 0.0360],\n",
            "        [0.0000, 0.0000, 0.0000,  ..., 0.0094, 0.0094, 0.0094],\n",
            "        [0.0227, 0.0347, 0.0000,  ..., 0.0000, 0.0000, 0.0360],\n",
            "        ...,\n",
            "        [0.0000, 0.0000, 0.0000,  ..., 0.0094, 0.0094, 0.0094],\n",
            "        [0.0000, 0.0000, 0.0000,  ..., 0.0094, 0.0094, 0.0094],\n",
            "        [0.0000, 0.0000, 0.0000,  ..., 0.0094, 0.0094, 0.0094]],\n",
            "       device='cuda:0')\n",
            "Epoch 10/50, Train Loss: 2.0236, Val Loss: 1.9489\n",
            "tensor([  0,   1,   2,  ..., 292, 293, 294], device='cuda:0')\n",
            "tensor([   0,    1,    2,  ..., 2779, 2780, 2781], device='cuda:0')\n",
            "Updated thread features with shape: tensor([[0.0000, 0.2556, 0.0000,  ..., 1.0517, 2.6998, 0.0000],\n",
            "        [0.0000, 0.0136, 0.0000,  ..., 0.0000, 0.3368, 0.2235],\n",
            "        [0.0000, 0.7038, 0.0000,  ..., 0.0000, 1.0298, 0.0000],\n",
            "        ...,\n",
            "        [0.0000, 0.0000, 0.0000,  ..., 0.0094, 0.0094, 0.0094],\n",
            "        [0.0000, 0.0000, 0.0000,  ..., 0.0094, 0.0094, 0.0094],\n",
            "        [0.0000, 0.0000, 0.0000,  ..., 0.0094, 0.0094, 0.0094]],\n",
            "       device='cuda:0', grad_fn=<ReluBackward0>)\n",
            "Updated thread features with shape: tensor([[0.0214, 0.0335, 0.0000,  ..., 0.0000, 0.0000, 0.0373],\n",
            "        [0.0000, 0.0000, 0.0000,  ..., 0.0104, 0.0104, 0.0104],\n",
            "        [0.0214, 0.0335, 0.0000,  ..., 0.0000, 0.0000, 0.0373],\n",
            "        ...,\n",
            "        [0.0000, 0.0000, 0.0000,  ..., 0.0104, 0.0104, 0.0104],\n",
            "        [0.0000, 0.0000, 0.0000,  ..., 0.0104, 0.0104, 0.0104],\n",
            "        [0.0000, 0.0000, 0.0000,  ..., 0.0104, 0.0104, 0.0104]],\n",
            "       device='cuda:0')\n",
            "Epoch 11/50, Train Loss: 2.0217, Val Loss: 1.9497\n",
            "tensor([  0,   1,   2,  ..., 292, 293, 294], device='cuda:0')\n",
            "tensor([   0,    1,    2,  ..., 2779, 2780, 2781], device='cuda:0')\n",
            "Updated thread features with shape: tensor([[0.0000, 0.2493, 0.0000,  ..., 1.0644, 2.7161, 0.0000],\n",
            "        [0.0000, 0.0101, 0.0000,  ..., 0.0000, 0.3409, 0.2262],\n",
            "        [0.0000, 0.7001, 0.0000,  ..., 0.0000, 1.0354, 0.0000],\n",
            "        ...,\n",
            "        [0.0000, 0.0000, 0.0000,  ..., 0.0104, 0.0104, 0.0104],\n",
            "        [0.0000, 0.0000, 0.0000,  ..., 0.0104, 0.0104, 0.0104],\n",
            "        [0.0000, 0.0000, 0.0000,  ..., 0.0104, 0.0104, 0.0104]],\n",
            "       device='cuda:0', grad_fn=<ReluBackward0>)\n",
            "Updated thread features with shape: tensor([[0.0201, 0.0322, 0.0000,  ..., 0.0000, 0.0000, 0.0387],\n",
            "        [0.0000, 0.0000, 0.0000,  ..., 0.0114, 0.0114, 0.0114],\n",
            "        [0.0201, 0.0322, 0.0000,  ..., 0.0000, 0.0000, 0.0387],\n",
            "        ...,\n",
            "        [0.0000, 0.0000, 0.0000,  ..., 0.0114, 0.0114, 0.0114],\n",
            "        [0.0000, 0.0000, 0.0000,  ..., 0.0114, 0.0114, 0.0114],\n",
            "        [0.0000, 0.0000, 0.0000,  ..., 0.0114, 0.0114, 0.0114]],\n",
            "       device='cuda:0')\n",
            "Epoch 12/50, Train Loss: 2.0199, Val Loss: 1.9501\n",
            "tensor([  0,   1,   2,  ..., 292, 293, 294], device='cuda:0')\n",
            "tensor([   0,    1,    2,  ..., 2779, 2780, 2781], device='cuda:0')\n",
            "Updated thread features with shape: tensor([[0.0000, 0.2429, 0.0000,  ..., 1.0773, 2.7326, 0.0000],\n",
            "        [0.0000, 0.0065, 0.0000,  ..., 0.0000, 0.3450, 0.2291],\n",
            "        [0.0000, 0.6965, 0.0000,  ..., 0.0000, 1.0411, 0.0000],\n",
            "        ...,\n",
            "        [0.0000, 0.0000, 0.0000,  ..., 0.0114, 0.0114, 0.0114],\n",
            "        [0.0000, 0.0000, 0.0000,  ..., 0.0114, 0.0114, 0.0114],\n",
            "        [0.0000, 0.0000, 0.0000,  ..., 0.0114, 0.0114, 0.0114]],\n",
            "       device='cuda:0', grad_fn=<ReluBackward0>)\n",
            "Updated thread features with shape: tensor([[0.0189, 0.0310, 0.0000,  ..., 0.0000, 0.0000, 0.0400],\n",
            "        [0.0000, 0.0000, 0.0000,  ..., 0.0124, 0.0124, 0.0124],\n",
            "        [0.0189, 0.0310, 0.0000,  ..., 0.0000, 0.0000, 0.0400],\n",
            "        ...,\n",
            "        [0.0000, 0.0000, 0.0000,  ..., 0.0124, 0.0124, 0.0124],\n",
            "        [0.0000, 0.0000, 0.0000,  ..., 0.0124, 0.0124, 0.0124],\n",
            "        [0.0000, 0.0000, 0.0000,  ..., 0.0124, 0.0124, 0.0124]],\n",
            "       device='cuda:0')\n",
            "Epoch 13/50, Train Loss: 2.0180, Val Loss: 1.9514\n",
            "tensor([  0,   1,   2,  ..., 292, 293, 294], device='cuda:0')\n",
            "tensor([   0,    1,    2,  ..., 2779, 2780, 2781], device='cuda:0')\n",
            "Updated thread features with shape: tensor([[0.0000, 0.2366, 0.0000,  ..., 1.0903, 2.7494, 0.0000],\n",
            "        [0.0000, 0.0029, 0.0000,  ..., 0.0000, 0.3491, 0.2319],\n",
            "        [0.0000, 0.6930, 0.0000,  ..., 0.0000, 1.0470, 0.0000],\n",
            "        ...,\n",
            "        [0.0000, 0.0000, 0.0000,  ..., 0.0124, 0.0124, 0.0124],\n",
            "        [0.0000, 0.0000, 0.0000,  ..., 0.0124, 0.0124, 0.0124],\n",
            "        [0.0000, 0.0000, 0.0000,  ..., 0.0124, 0.0124, 0.0124]],\n",
            "       device='cuda:0', grad_fn=<ReluBackward0>)\n",
            "Updated thread features with shape: tensor([[0.0176, 0.0298, 0.0000,  ..., 0.0000, 0.0000, 0.0414],\n",
            "        [0.0000, 0.0000, 0.0000,  ..., 0.0135, 0.0134, 0.0134],\n",
            "        [0.0176, 0.0298, 0.0000,  ..., 0.0000, 0.0000, 0.0414],\n",
            "        ...,\n",
            "        [0.0000, 0.0000, 0.0000,  ..., 0.0135, 0.0134, 0.0134],\n",
            "        [0.0000, 0.0000, 0.0000,  ..., 0.0135, 0.0134, 0.0134],\n",
            "        [0.0000, 0.0000, 0.0000,  ..., 0.0135, 0.0134, 0.0134]],\n",
            "       device='cuda:0')\n",
            "Epoch 14/50, Train Loss: 2.0160, Val Loss: 1.9519\n",
            "tensor([  0,   1,   2,  ..., 292, 293, 294], device='cuda:0')\n",
            "tensor([   0,    1,    2,  ..., 2779, 2780, 2781], device='cuda:0')\n",
            "Updated thread features with shape: tensor([[0.0000, 0.2304, 0.0000,  ..., 1.1037, 2.7664, 0.0000],\n",
            "        [0.0000, 0.0000, 0.0000,  ..., 0.0000, 0.3533, 0.2347],\n",
            "        [0.0000, 0.6895, 0.0000,  ..., 0.0000, 1.0531, 0.0000],\n",
            "        ...,\n",
            "        [0.0000, 0.0000, 0.0000,  ..., 0.0135, 0.0134, 0.0134],\n",
            "        [0.0000, 0.0000, 0.0000,  ..., 0.0135, 0.0134, 0.0134],\n",
            "        [0.0000, 0.0000, 0.0000,  ..., 0.0135, 0.0134, 0.0134]],\n",
            "       device='cuda:0', grad_fn=<ReluBackward0>)\n",
            "Updated thread features with shape: tensor([[0.0163, 0.0286, 0.0000,  ..., 0.0000, 0.0000, 0.0427],\n",
            "        [0.0000, 0.0000, 0.0000,  ..., 0.0145, 0.0144, 0.0144],\n",
            "        [0.0163, 0.0286, 0.0000,  ..., 0.0000, 0.0000, 0.0427],\n",
            "        ...,\n",
            "        [0.0000, 0.0000, 0.0000,  ..., 0.0145, 0.0144, 0.0144],\n",
            "        [0.0000, 0.0000, 0.0000,  ..., 0.0145, 0.0144, 0.0144],\n",
            "        [0.0000, 0.0000, 0.0000,  ..., 0.0145, 0.0144, 0.0144]],\n",
            "       device='cuda:0')\n",
            "Epoch 15/50, Train Loss: 2.0142, Val Loss: 1.9527\n",
            "tensor([  0,   1,   2,  ..., 292, 293, 294], device='cuda:0')\n",
            "tensor([   0,    1,    2,  ..., 2779, 2780, 2781], device='cuda:0')\n",
            "Updated thread features with shape: tensor([[0.0000, 0.2241, 0.0000,  ..., 1.1172, 2.7837, 0.0000],\n",
            "        [0.0000, 0.0000, 0.0000,  ..., 0.0000, 0.3575, 0.2375],\n",
            "        [0.0000, 0.6860, 0.0000,  ..., 0.0000, 1.0594, 0.0000],\n",
            "        ...,\n",
            "        [0.0000, 0.0000, 0.0000,  ..., 0.0145, 0.0144, 0.0144],\n",
            "        [0.0000, 0.0000, 0.0000,  ..., 0.0145, 0.0144, 0.0144],\n",
            "        [0.0000, 0.0000, 0.0000,  ..., 0.0145, 0.0144, 0.0144]],\n",
            "       device='cuda:0', grad_fn=<ReluBackward0>)\n",
            "Updated thread features with shape: tensor([[0.0151, 0.0274, 0.0000,  ..., 0.0000, 0.0000, 0.0441],\n",
            "        [0.0000, 0.0000, 0.0000,  ..., 0.0155, 0.0154, 0.0155],\n",
            "        [0.0151, 0.0274, 0.0000,  ..., 0.0000, 0.0000, 0.0441],\n",
            "        ...,\n",
            "        [0.0000, 0.0000, 0.0000,  ..., 0.0155, 0.0154, 0.0155],\n",
            "        [0.0000, 0.0000, 0.0000,  ..., 0.0155, 0.0154, 0.0155],\n",
            "        [0.0000, 0.0000, 0.0000,  ..., 0.0155, 0.0154, 0.0155]],\n",
            "       device='cuda:0')\n",
            "Epoch 16/50, Train Loss: 2.0123, Val Loss: 1.9532\n",
            "tensor([  0,   1,   2,  ..., 292, 293, 294], device='cuda:0')\n",
            "tensor([   0,    1,    2,  ..., 2779, 2780, 2781], device='cuda:0')\n",
            "Updated thread features with shape: tensor([[0.0000, 0.2179, 0.0000,  ..., 1.1309, 2.8013, 0.0000],\n",
            "        [0.0000, 0.0000, 0.0000,  ..., 0.0000, 0.3617, 0.2404],\n",
            "        [0.0000, 0.6827, 0.0000,  ..., 0.0000, 1.0658, 0.0000],\n",
            "        ...,\n",
            "        [0.0000, 0.0000, 0.0000,  ..., 0.0155, 0.0154, 0.0155],\n",
            "        [0.0000, 0.0000, 0.0000,  ..., 0.0155, 0.0154, 0.0155],\n",
            "        [0.0000, 0.0000, 0.0000,  ..., 0.0155, 0.0154, 0.0155]],\n",
            "       device='cuda:0', grad_fn=<ReluBackward0>)\n",
            "Updated thread features with shape: tensor([[0.0139, 0.0262, 0.0000,  ..., 0.0000, 0.0000, 0.0455],\n",
            "        [0.0000, 0.0000, 0.0000,  ..., 0.0166, 0.0165, 0.0165],\n",
            "        [0.0139, 0.0262, 0.0000,  ..., 0.0000, 0.0000, 0.0455],\n",
            "        ...,\n",
            "        [0.0000, 0.0000, 0.0000,  ..., 0.0166, 0.0165, 0.0165],\n",
            "        [0.0000, 0.0000, 0.0000,  ..., 0.0166, 0.0165, 0.0165],\n",
            "        [0.0000, 0.0000, 0.0000,  ..., 0.0166, 0.0165, 0.0165]],\n",
            "       device='cuda:0')\n",
            "Epoch 17/50, Train Loss: 2.0104, Val Loss: 1.9535\n",
            "tensor([  0,   1,   2,  ..., 292, 293, 294], device='cuda:0')\n",
            "tensor([   0,    1,    2,  ..., 2779, 2780, 2781], device='cuda:0')\n",
            "Updated thread features with shape: tensor([[0.0000e+00, 2.1167e-01, 0.0000e+00,  ..., 1.1449e+00, 2.8192e+00,\n",
            "         0.0000e+00],\n",
            "        [0.0000e+00, 0.0000e+00, 0.0000e+00,  ..., 0.0000e+00, 3.6595e-01,\n",
            "         2.4328e-01],\n",
            "        [0.0000e+00, 6.7935e-01, 0.0000e+00,  ..., 1.8913e-03, 1.0723e+00,\n",
            "         0.0000e+00],\n",
            "        ...,\n",
            "        [0.0000e+00, 0.0000e+00, 0.0000e+00,  ..., 1.6581e-02, 1.6458e-02,\n",
            "         1.6486e-02],\n",
            "        [0.0000e+00, 0.0000e+00, 0.0000e+00,  ..., 1.6581e-02, 1.6458e-02,\n",
            "         1.6486e-02],\n",
            "        [0.0000e+00, 0.0000e+00, 0.0000e+00,  ..., 1.6581e-02, 1.6458e-02,\n",
            "         1.6486e-02]], device='cuda:0', grad_fn=<ReluBackward0>)\n",
            "Updated thread features with shape: tensor([[0.0126, 0.0250, 0.0000,  ..., 0.0000, 0.0000, 0.0468],\n",
            "        [0.0000, 0.0000, 0.0000,  ..., 0.0176, 0.0175, 0.0175],\n",
            "        [0.0126, 0.0250, 0.0000,  ..., 0.0000, 0.0000, 0.0468],\n",
            "        ...,\n",
            "        [0.0000, 0.0000, 0.0000,  ..., 0.0176, 0.0175, 0.0175],\n",
            "        [0.0000, 0.0000, 0.0000,  ..., 0.0176, 0.0175, 0.0175],\n",
            "        [0.0000, 0.0000, 0.0000,  ..., 0.0176, 0.0175, 0.0175]],\n",
            "       device='cuda:0')\n",
            "Epoch 18/50, Train Loss: 2.0016, Val Loss: 1.9540\n",
            "tensor([  0,   1,   2,  ..., 292, 293, 294], device='cuda:0')\n",
            "tensor([   0,    1,    2,  ..., 2779, 2780, 2781], device='cuda:0')\n",
            "Updated thread features with shape: tensor([[0.0000, 0.2055, 0.0000,  ..., 1.1592, 2.8373, 0.0000],\n",
            "        [0.0000, 0.0000, 0.0000,  ..., 0.0000, 0.3702, 0.2462],\n",
            "        [0.0000, 0.6761, 0.0000,  ..., 0.0043, 1.0790, 0.0000],\n",
            "        ...,\n",
            "        [0.0000, 0.0000, 0.0000,  ..., 0.0176, 0.0175, 0.0175],\n",
            "        [0.0000, 0.0000, 0.0000,  ..., 0.0176, 0.0175, 0.0175],\n",
            "        [0.0000, 0.0000, 0.0000,  ..., 0.0176, 0.0175, 0.0175]],\n",
            "       device='cuda:0', grad_fn=<ReluBackward0>)\n",
            "Updated thread features with shape: tensor([[0.0114, 0.0238, 0.0000,  ..., 0.0000, 0.0000, 0.0482],\n",
            "        [0.0000, 0.0000, 0.0000,  ..., 0.0187, 0.0185, 0.0186],\n",
            "        [0.0114, 0.0238, 0.0000,  ..., 0.0000, 0.0000, 0.0482],\n",
            "        ...,\n",
            "        [0.0000, 0.0000, 0.0000,  ..., 0.0187, 0.0185, 0.0186],\n",
            "        [0.0000, 0.0000, 0.0000,  ..., 0.0187, 0.0185, 0.0186],\n",
            "        [0.0000, 0.0000, 0.0000,  ..., 0.0187, 0.0185, 0.0186]],\n",
            "       device='cuda:0')\n",
            "Epoch 19/50, Train Loss: 1.9996, Val Loss: 1.9546\n",
            "tensor([  0,   1,   2,  ..., 292, 293, 294], device='cuda:0')\n",
            "tensor([   0,    1,    2,  ..., 2779, 2780, 2781], device='cuda:0')\n",
            "Updated thread features with shape: tensor([[0.0000, 0.1992, 0.0000,  ..., 1.1736, 2.8557, 0.0000],\n",
            "        [0.0000, 0.0000, 0.0000,  ..., 0.0000, 0.3745, 0.2492],\n",
            "        [0.0000, 0.6729, 0.0000,  ..., 0.0068, 1.0858, 0.0000],\n",
            "        ...,\n",
            "        [0.0000, 0.0000, 0.0000,  ..., 0.0187, 0.0185, 0.0186],\n",
            "        [0.0000, 0.0000, 0.0000,  ..., 0.0187, 0.0185, 0.0186],\n",
            "        [0.0000, 0.0000, 0.0000,  ..., 0.0187, 0.0185, 0.0186]],\n",
            "       device='cuda:0', grad_fn=<ReluBackward0>)\n",
            "Updated thread features with shape: tensor([[0.0102, 0.0226, 0.0000,  ..., 0.0000, 0.0000, 0.0496],\n",
            "        [0.0000, 0.0000, 0.0000,  ..., 0.0197, 0.0195, 0.0196],\n",
            "        [0.0102, 0.0226, 0.0000,  ..., 0.0000, 0.0000, 0.0496],\n",
            "        ...,\n",
            "        [0.0000, 0.0000, 0.0000,  ..., 0.0197, 0.0195, 0.0196],\n",
            "        [0.0000, 0.0000, 0.0000,  ..., 0.0197, 0.0195, 0.0196],\n",
            "        [0.0000, 0.0000, 0.0000,  ..., 0.0197, 0.0195, 0.0196]],\n",
            "       device='cuda:0')\n",
            "Epoch 20/50, Train Loss: 1.9977, Val Loss: 1.9559\n",
            "tensor([  0,   1,   2,  ..., 292, 293, 294], device='cuda:0')\n",
            "tensor([   0,    1,    2,  ..., 2779, 2780, 2781], device='cuda:0')\n",
            "Updated thread features with shape: tensor([[0.0000, 0.1930, 0.0000,  ..., 1.1883, 2.8744, 0.0000],\n",
            "        [0.0000, 0.0000, 0.0000,  ..., 0.0000, 0.3789, 0.2522],\n",
            "        [0.0000, 0.6697, 0.0000,  ..., 0.0092, 1.0927, 0.0000],\n",
            "        ...,\n",
            "        [0.0000, 0.0000, 0.0000,  ..., 0.0197, 0.0195, 0.0196],\n",
            "        [0.0000, 0.0000, 0.0000,  ..., 0.0197, 0.0195, 0.0196],\n",
            "        [0.0000, 0.0000, 0.0000,  ..., 0.0197, 0.0195, 0.0196]],\n",
            "       device='cuda:0', grad_fn=<ReluBackward0>)\n",
            "Updated thread features with shape: tensor([[0.0090, 0.0215, 0.0000,  ..., 0.0000, 0.0000, 0.0510],\n",
            "        [0.0000, 0.0000, 0.0000,  ..., 0.0208, 0.0206, 0.0206],\n",
            "        [0.0090, 0.0215, 0.0000,  ..., 0.0000, 0.0000, 0.0510],\n",
            "        ...,\n",
            "        [0.0000, 0.0000, 0.0000,  ..., 0.0208, 0.0206, 0.0206],\n",
            "        [0.0000, 0.0000, 0.0000,  ..., 0.0208, 0.0206, 0.0206],\n",
            "        [0.0000, 0.0000, 0.0000,  ..., 0.0208, 0.0206, 0.0206]],\n",
            "       device='cuda:0')\n",
            "Epoch 21/50, Train Loss: 1.9957, Val Loss: 1.9563\n",
            "Early stopping triggered after 21 epochs!\n"
          ]
        }
      ]
    }
  ],
  "metadata": {
    "accelerator": "GPU",
    "colab": {
      "gpuType": "L4",
      "machine_shape": "hm",
      "provenance": []
    },
    "kernelspec": {
      "display_name": "Python 3",
      "name": "python3"
    },
    "language_info": {
      "name": "python"
    }
  },
  "nbformat": 4,
  "nbformat_minor": 0
}